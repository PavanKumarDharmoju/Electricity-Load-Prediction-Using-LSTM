{
  "nbformat": 4,
  "nbformat_minor": 0,
  "metadata": {
    "colab": {
      "name": "LSTM",
      "provenance": [],
      "collapsed_sections": []
    },
    "kernelspec": {
      "display_name": "Python 3",
      "name": "python3"
    },
    "language_info": {
      "name": "python"
    }
  },
  "cells": [
    {
      "cell_type": "markdown",
      "metadata": {
        "id": "Kuj1-DFkulB9"
      },
      "source": [
        "##IMPORTING PACKAGES AND DATASET"
      ]
    },
    {
      "cell_type": "code",
      "metadata": {
        "id": "R_NWlYEYp1km"
      },
      "source": [
        "#importing necessary packages \n",
        "import matplotlib.pyplot as plt\n",
        "import seaborn as sns\n",
        "import pandas as pd\n",
        "import numpy as np\n",
        "\n",
        "\n",
        "from keras import Sequential\n",
        "from keras.layers import Dense,LSTM\n",
        "from sklearn.metrics import mean_squared_error,mean_absolute_error\n",
        "import tensorflow as tf\n",
        "tf.random.set_seed(2)\n",
        "from numpy.random import seed\n",
        "seed(1)\n"
      ],
      "execution_count": null,
      "outputs": []
    },
    {
      "cell_type": "code",
      "metadata": {
        "colab": {
          "resources": {
            "http://localhost:8080/nbextensions/google.colab/files.js": {
              "data": "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",
              "ok": true,
              "headers": [
                [
                  "content-type",
                  "application/javascript"
                ]
              ],
              "status": 200,
              "status_text": ""
            }
          },
          "base_uri": "https://localhost:8080/",
          "height": 108
        },
        "id": "_dx9LWWrtx7Q",
        "outputId": "120d3405-e5d0-450c-a5df-48768be071b5"
      },
      "source": [
        "#To upload CSV file from device\n",
        "from google.colab import files\n",
        "data_to_load = files.upload()\n"
      ],
      "execution_count": null,
      "outputs": [
        {
          "output_type": "display_data",
          "data": {
            "text/html": [
              "\n",
              "     <input type=\"file\" id=\"files-f37f1a84-689e-4116-8efd-36f648b4aa07\" name=\"files[]\" multiple disabled\n",
              "        style=\"border:none\" />\n",
              "     <output id=\"result-f37f1a84-689e-4116-8efd-36f648b4aa07\">\n",
              "      Upload widget is only available when the cell has been executed in the\n",
              "      current browser session. Please rerun this cell to enable.\n",
              "      </output>\n",
              "      <script src=\"/nbextensions/google.colab/files.js\"></script> "
            ],
            "text/plain": [
              "<IPython.core.display.HTML object>"
            ]
          },
          "metadata": {
            "tags": []
          }
        },
        {
          "output_type": "stream",
          "text": [
            "Saving FinalProject to FinalProject\n",
            "Saving fp.csv to fp.csv\n"
          ],
          "name": "stdout"
        }
      ]
    },
    {
      "cell_type": "markdown",
      "metadata": {
        "id": "W4KcCSUwug5E"
      },
      "source": [
        "###LOADING DATA"
      ]
    },
    {
      "cell_type": "code",
      "metadata": {
        "id": "bV3gmasusDNa"
      },
      "source": [
        "# load dataset\n",
        "dataset = pd.read_csv('FinalProject', index_col='month')\n"
      ],
      "execution_count": null,
      "outputs": []
    },
    {
      "cell_type": "markdown",
      "metadata": {
        "id": "RgInTW521BLa"
      },
      "source": [
        "###PREPARING DATA"
      ]
    },
    {
      "cell_type": "code",
      "metadata": {
        "colab": {
          "base_uri": "https://localhost:8080/",
          "height": 341
        },
        "id": "Y6bYgvolfmaf",
        "outputId": "f93c3f6d-f085-410e-d6ea-fc70b3046d58"
      },
      "source": [
        "dataset.head()"
      ],
      "execution_count": null,
      "outputs": [
        {
          "output_type": "execute_result",
          "data": {
            "text/html": [
              "<div>\n",
              "<style scoped>\n",
              "    .dataframe tbody tr th:only-of-type {\n",
              "        vertical-align: middle;\n",
              "    }\n",
              "\n",
              "    .dataframe tbody tr th {\n",
              "        vertical-align: top;\n",
              "    }\n",
              "\n",
              "    .dataframe thead th {\n",
              "        text-align: right;\n",
              "    }\n",
              "</style>\n",
              "<table border=\"1\" class=\"dataframe\">\n",
              "  <thead>\n",
              "    <tr style=\"text-align: right;\">\n",
              "      <th></th>\n",
              "      <th>energy_used</th>\n",
              "      <th>mean_temp</th>\n",
              "      <th>max_temp</th>\n",
              "      <th>min_temp</th>\n",
              "      <th>vapor_pressure</th>\n",
              "      <th>rain_days</th>\n",
              "      <th>cloud_cover</th>\n",
              "      <th>population</th>\n",
              "      <th>electricity_price</th>\n",
              "      <th>cpi</th>\n",
              "    </tr>\n",
              "    <tr>\n",
              "      <th>month</th>\n",
              "      <th></th>\n",
              "      <th></th>\n",
              "      <th></th>\n",
              "      <th></th>\n",
              "      <th></th>\n",
              "      <th></th>\n",
              "      <th></th>\n",
              "      <th></th>\n",
              "      <th></th>\n",
              "      <th></th>\n",
              "    </tr>\n",
              "  </thead>\n",
              "  <tbody>\n",
              "    <tr>\n",
              "      <th>1973-01-01</th>\n",
              "      <td>1957.641</td>\n",
              "      <td>17.0</td>\n",
              "      <td>0.9</td>\n",
              "      <td>-10.1</td>\n",
              "      <td>4.0</td>\n",
              "      <td>14.3</td>\n",
              "      <td>66.2</td>\n",
              "      <td>211053</td>\n",
              "      <td>2.9</td>\n",
              "      <td>36.5</td>\n",
              "    </tr>\n",
              "    <tr>\n",
              "      <th>1973-02-01</th>\n",
              "      <td>1712.143</td>\n",
              "      <td>20.0</td>\n",
              "      <td>4.0</td>\n",
              "      <td>-7.8</td>\n",
              "      <td>4.4</td>\n",
              "      <td>15.8</td>\n",
              "      <td>64.5</td>\n",
              "      <td>211187</td>\n",
              "      <td>2.9</td>\n",
              "      <td>36.7</td>\n",
              "    </tr>\n",
              "    <tr>\n",
              "      <th>1973-03-01</th>\n",
              "      <td>1510.079</td>\n",
              "      <td>23.2</td>\n",
              "      <td>9.0</td>\n",
              "      <td>-2.3</td>\n",
              "      <td>6.4</td>\n",
              "      <td>16.1</td>\n",
              "      <td>68.5</td>\n",
              "      <td>211337</td>\n",
              "      <td>2.8</td>\n",
              "      <td>36.9</td>\n",
              "    </tr>\n",
              "    <tr>\n",
              "      <th>1973-04-01</th>\n",
              "      <td>1183.421</td>\n",
              "      <td>28.5</td>\n",
              "      <td>13.1</td>\n",
              "      <td>0.8</td>\n",
              "      <td>7.1</td>\n",
              "      <td>11.2</td>\n",
              "      <td>65.1</td>\n",
              "      <td>211499</td>\n",
              "      <td>2.9</td>\n",
              "      <td>37.1</td>\n",
              "    </tr>\n",
              "    <tr>\n",
              "      <th>1973-05-01</th>\n",
              "      <td>1006.326</td>\n",
              "      <td>30.0</td>\n",
              "      <td>19.8</td>\n",
              "      <td>6.3</td>\n",
              "      <td>9.5</td>\n",
              "      <td>8.1</td>\n",
              "      <td>60.9</td>\n",
              "      <td>211662</td>\n",
              "      <td>2.8</td>\n",
              "      <td>37.1</td>\n",
              "    </tr>\n",
              "  </tbody>\n",
              "</table>\n",
              "</div>"
            ],
            "text/plain": [
              "            energy_used  mean_temp  ...  electricity_price   cpi\n",
              "month                               ...                         \n",
              "1973-01-01     1957.641       17.0  ...                2.9  36.5\n",
              "1973-02-01     1712.143       20.0  ...                2.9  36.7\n",
              "1973-03-01     1510.079       23.2  ...                2.8  36.9\n",
              "1973-04-01     1183.421       28.5  ...                2.9  37.1\n",
              "1973-05-01     1006.326       30.0  ...                2.8  37.1\n",
              "\n",
              "[5 rows x 10 columns]"
            ]
          },
          "metadata": {
            "tags": []
          },
          "execution_count": 5
        }
      ]
    },
    {
      "cell_type": "code",
      "metadata": {
        "colab": {
          "base_uri": "https://localhost:8080/"
        },
        "id": "tOJL6wi3fqLy",
        "outputId": "ff5fe54f-6445-4d83-b6b1-0f3c687d1209"
      },
      "source": [
        "values = dataset.values\n",
        "values"
      ],
      "execution_count": null,
      "outputs": [
        {
          "output_type": "execute_result",
          "data": {
            "text/plain": [
              "array([[1.957641e+03, 1.700000e+01, 9.000000e-01, ..., 2.110530e+05,\n",
              "        2.900000e+00, 3.650000e+01],\n",
              "       [1.712143e+03, 2.000000e+01, 4.000000e+00, ..., 2.111870e+05,\n",
              "        2.900000e+00, 3.670000e+01],\n",
              "       [1.510079e+03, 2.320000e+01, 9.000000e+00, ..., 2.113370e+05,\n",
              "        2.800000e+00, 3.690000e+01],\n",
              "       ...,\n",
              "       [1.331488e+03, 2.500000e+01, 1.740000e+01, ..., 3.193670e+05,\n",
              "        1.260000e+01, 2.066670e+02],\n",
              "       [1.773941e+03, 2.160000e+01, 8.100000e+00, ..., 3.195610e+05,\n",
              "        1.248000e+01, 2.028890e+02],\n",
              "       [2.164815e+03, 1.750000e+01, 5.400000e+00, ..., 3.197420e+05,\n",
              "        1.217000e+01, 2.042750e+02]])"
            ]
          },
          "metadata": {
            "tags": []
          },
          "execution_count": 6
        }
      ]
    },
    {
      "cell_type": "code",
      "metadata": {
        "colab": {
          "base_uri": "https://localhost:8080/"
        },
        "id": "LdjXgt_Jf4TI",
        "outputId": "7244fe1e-a0ac-4f42-a3df-b6b7b7c7a281"
      },
      "source": [
        "#Scale the data\n",
        "\n",
        "from sklearn.preprocessing import MinMaxScaler\n",
        "scaler = MinMaxScaler()\n",
        "scaled = scaler.fit_transform(values)\n",
        "scaled[0]"
      ],
      "execution_count": null,
      "outputs": [
        {
          "output_type": "execute_result",
          "data": {
            "text/plain": [
              "array([0.55380001, 0.08333333, 0.0751634 , 0.06859206, 0.06      ,\n",
              "       0.68152866, 0.79146919, 0.        , 0.02859867, 0.        ])"
            ]
          },
          "metadata": {
            "tags": []
          },
          "execution_count": 7
        }
      ]
    },
    {
      "cell_type": "code",
      "metadata": {
        "id": "jNQ_NhBrf9r6"
      },
      "source": [
        "#convert data to supervised form\n",
        "\n",
        "def to_supervised(dataset,dropNa = True,lag = 1):\n",
        "    df = pd.DataFrame(dataset)\n",
        "    column = []\n",
        "    column.append(df)\n",
        "    for i in range(1,lag+1):\n",
        "        column.append(df.shift(-i))\n",
        "    df = pd.concat(column,axis=1)\n",
        "    df.dropna(inplace = True)\n",
        "    features = dataset.shape[1]\n",
        "    df = df.values\n",
        "    supervised_data = df[:,:features*lag]\n",
        "    supervised_data = np.column_stack( [supervised_data, df[:,features*lag]])\n",
        "    return supervised_data"
      ],
      "execution_count": null,
      "outputs": []
    },
    {
      "cell_type": "code",
      "metadata": {
        "colab": {
          "base_uri": "https://localhost:8080/",
          "height": 224
        },
        "id": "WBLz2UV9gysT",
        "outputId": "749a9f86-ec41-4a4f-a75a-0cce86806fa9"
      },
      "source": [
        "timeSteps = 3\n",
        "\n",
        "supervised = to_supervised(scaled,lag=timeSteps)\n",
        "pd.DataFrame(supervised).head()"
      ],
      "execution_count": null,
      "outputs": [
        {
          "output_type": "execute_result",
          "data": {
            "text/html": [
              "<div>\n",
              "<style scoped>\n",
              "    .dataframe tbody tr th:only-of-type {\n",
              "        vertical-align: middle;\n",
              "    }\n",
              "\n",
              "    .dataframe tbody tr th {\n",
              "        vertical-align: top;\n",
              "    }\n",
              "\n",
              "    .dataframe thead th {\n",
              "        text-align: right;\n",
              "    }\n",
              "</style>\n",
              "<table border=\"1\" class=\"dataframe\">\n",
              "  <thead>\n",
              "    <tr style=\"text-align: right;\">\n",
              "      <th></th>\n",
              "      <th>0</th>\n",
              "      <th>1</th>\n",
              "      <th>2</th>\n",
              "      <th>3</th>\n",
              "      <th>4</th>\n",
              "      <th>5</th>\n",
              "      <th>6</th>\n",
              "      <th>7</th>\n",
              "      <th>8</th>\n",
              "      <th>9</th>\n",
              "      <th>10</th>\n",
              "      <th>11</th>\n",
              "      <th>12</th>\n",
              "      <th>13</th>\n",
              "      <th>14</th>\n",
              "      <th>15</th>\n",
              "      <th>16</th>\n",
              "      <th>17</th>\n",
              "      <th>18</th>\n",
              "      <th>19</th>\n",
              "      <th>20</th>\n",
              "      <th>21</th>\n",
              "      <th>22</th>\n",
              "      <th>23</th>\n",
              "      <th>24</th>\n",
              "      <th>25</th>\n",
              "      <th>26</th>\n",
              "      <th>27</th>\n",
              "      <th>28</th>\n",
              "      <th>29</th>\n",
              "      <th>30</th>\n",
              "    </tr>\n",
              "  </thead>\n",
              "  <tbody>\n",
              "    <tr>\n",
              "      <th>0</th>\n",
              "      <td>0.553800</td>\n",
              "      <td>0.083333</td>\n",
              "      <td>0.075163</td>\n",
              "      <td>0.068592</td>\n",
              "      <td>0.060000</td>\n",
              "      <td>0.681529</td>\n",
              "      <td>0.791469</td>\n",
              "      <td>0.000000</td>\n",
              "      <td>0.028599</td>\n",
              "      <td>0.000000</td>\n",
              "      <td>0.425046</td>\n",
              "      <td>0.291667</td>\n",
              "      <td>0.176471</td>\n",
              "      <td>0.151625</td>\n",
              "      <td>0.086667</td>\n",
              "      <td>0.777070</td>\n",
              "      <td>0.710900</td>\n",
              "      <td>0.001233</td>\n",
              "      <td>0.028599</td>\n",
              "      <td>0.001102</td>\n",
              "      <td>0.319071</td>\n",
              "      <td>0.513889</td>\n",
              "      <td>0.339869</td>\n",
              "      <td>0.350181</td>\n",
              "      <td>0.220000</td>\n",
              "      <td>0.796178</td>\n",
              "      <td>0.900474</td>\n",
              "      <td>0.002613</td>\n",
              "      <td>0.019066</td>\n",
              "      <td>0.002205</td>\n",
              "      <td>0.147752</td>\n",
              "    </tr>\n",
              "    <tr>\n",
              "      <th>1</th>\n",
              "      <td>0.425046</td>\n",
              "      <td>0.291667</td>\n",
              "      <td>0.176471</td>\n",
              "      <td>0.151625</td>\n",
              "      <td>0.086667</td>\n",
              "      <td>0.777070</td>\n",
              "      <td>0.710900</td>\n",
              "      <td>0.001233</td>\n",
              "      <td>0.028599</td>\n",
              "      <td>0.001102</td>\n",
              "      <td>0.319071</td>\n",
              "      <td>0.513889</td>\n",
              "      <td>0.339869</td>\n",
              "      <td>0.350181</td>\n",
              "      <td>0.220000</td>\n",
              "      <td>0.796178</td>\n",
              "      <td>0.900474</td>\n",
              "      <td>0.002613</td>\n",
              "      <td>0.019066</td>\n",
              "      <td>0.002205</td>\n",
              "      <td>0.147752</td>\n",
              "      <td>0.881944</td>\n",
              "      <td>0.473856</td>\n",
              "      <td>0.462094</td>\n",
              "      <td>0.266667</td>\n",
              "      <td>0.484076</td>\n",
              "      <td>0.739336</td>\n",
              "      <td>0.004103</td>\n",
              "      <td>0.028599</td>\n",
              "      <td>0.003307</td>\n",
              "      <td>0.054872</td>\n",
              "    </tr>\n",
              "    <tr>\n",
              "      <th>2</th>\n",
              "      <td>0.319071</td>\n",
              "      <td>0.513889</td>\n",
              "      <td>0.339869</td>\n",
              "      <td>0.350181</td>\n",
              "      <td>0.220000</td>\n",
              "      <td>0.796178</td>\n",
              "      <td>0.900474</td>\n",
              "      <td>0.002613</td>\n",
              "      <td>0.019066</td>\n",
              "      <td>0.002205</td>\n",
              "      <td>0.147752</td>\n",
              "      <td>0.881944</td>\n",
              "      <td>0.473856</td>\n",
              "      <td>0.462094</td>\n",
              "      <td>0.266667</td>\n",
              "      <td>0.484076</td>\n",
              "      <td>0.739336</td>\n",
              "      <td>0.004103</td>\n",
              "      <td>0.028599</td>\n",
              "      <td>0.003307</td>\n",
              "      <td>0.054872</td>\n",
              "      <td>0.986111</td>\n",
              "      <td>0.692810</td>\n",
              "      <td>0.660650</td>\n",
              "      <td>0.426667</td>\n",
              "      <td>0.286624</td>\n",
              "      <td>0.540284</td>\n",
              "      <td>0.005603</td>\n",
              "      <td>0.019066</td>\n",
              "      <td>0.003307</td>\n",
              "      <td>0.006949</td>\n",
              "    </tr>\n",
              "    <tr>\n",
              "      <th>3</th>\n",
              "      <td>0.147752</td>\n",
              "      <td>0.881944</td>\n",
              "      <td>0.473856</td>\n",
              "      <td>0.462094</td>\n",
              "      <td>0.266667</td>\n",
              "      <td>0.484076</td>\n",
              "      <td>0.739336</td>\n",
              "      <td>0.004103</td>\n",
              "      <td>0.028599</td>\n",
              "      <td>0.003307</td>\n",
              "      <td>0.054872</td>\n",
              "      <td>0.986111</td>\n",
              "      <td>0.692810</td>\n",
              "      <td>0.660650</td>\n",
              "      <td>0.426667</td>\n",
              "      <td>0.286624</td>\n",
              "      <td>0.540284</td>\n",
              "      <td>0.005603</td>\n",
              "      <td>0.019066</td>\n",
              "      <td>0.003307</td>\n",
              "      <td>0.006949</td>\n",
              "      <td>0.902778</td>\n",
              "      <td>0.866013</td>\n",
              "      <td>0.851986</td>\n",
              "      <td>0.706667</td>\n",
              "      <td>0.165605</td>\n",
              "      <td>0.469194</td>\n",
              "      <td>0.007130</td>\n",
              "      <td>0.000000</td>\n",
              "      <td>0.004409</td>\n",
              "      <td>0.031558</td>\n",
              "    </tr>\n",
              "    <tr>\n",
              "      <th>4</th>\n",
              "      <td>0.054872</td>\n",
              "      <td>0.986111</td>\n",
              "      <td>0.692810</td>\n",
              "      <td>0.660650</td>\n",
              "      <td>0.426667</td>\n",
              "      <td>0.286624</td>\n",
              "      <td>0.540284</td>\n",
              "      <td>0.005603</td>\n",
              "      <td>0.019066</td>\n",
              "      <td>0.003307</td>\n",
              "      <td>0.006949</td>\n",
              "      <td>0.902778</td>\n",
              "      <td>0.866013</td>\n",
              "      <td>0.851986</td>\n",
              "      <td>0.706667</td>\n",
              "      <td>0.165605</td>\n",
              "      <td>0.469194</td>\n",
              "      <td>0.007130</td>\n",
              "      <td>0.000000</td>\n",
              "      <td>0.004409</td>\n",
              "      <td>0.031558</td>\n",
              "      <td>0.756944</td>\n",
              "      <td>0.944444</td>\n",
              "      <td>0.938628</td>\n",
              "      <td>0.846667</td>\n",
              "      <td>0.108280</td>\n",
              "      <td>0.232227</td>\n",
              "      <td>0.008722</td>\n",
              "      <td>0.000000</td>\n",
              "      <td>0.004409</td>\n",
              "      <td>0.048544</td>\n",
              "    </tr>\n",
              "  </tbody>\n",
              "</table>\n",
              "</div>"
            ],
            "text/plain": [
              "         0         1         2   ...        28        29        30\n",
              "0  0.553800  0.083333  0.075163  ...  0.019066  0.002205  0.147752\n",
              "1  0.425046  0.291667  0.176471  ...  0.028599  0.003307  0.054872\n",
              "2  0.319071  0.513889  0.339869  ...  0.019066  0.003307  0.006949\n",
              "3  0.147752  0.881944  0.473856  ...  0.000000  0.004409  0.031558\n",
              "4  0.054872  0.986111  0.692810  ...  0.000000  0.004409  0.048544\n",
              "\n",
              "[5 rows x 31 columns]"
            ]
          },
          "metadata": {
            "tags": []
          },
          "execution_count": 9
        }
      ]
    },
    {
      "cell_type": "code",
      "metadata": {
        "colab": {
          "base_uri": "https://localhost:8080/"
        },
        "id": "sHkdXXKKg8Ra",
        "outputId": "1467bfd5-a85c-4747-99fe-c61836f86ae1"
      },
      "source": [
        "# spiltting the data\n",
        "# training on only first 31 years data\n",
        "features = dataset.shape[1]\n",
        "train_months = 12*32\n",
        "X = supervised[:,:features*timeSteps]\n",
        "y = supervised[:,features*timeSteps]\n",
        "\n",
        "x_train = X[:train_months,:]\n",
        "x_test = X[train_months:,:]\n",
        "y_train = y[:train_months]\n",
        "y_test = y[train_months:]\n",
        "\n",
        "print(x_train.shape,x_test.shape,y_train.shape,y_test.shape)\n"
      ],
      "execution_count": null,
      "outputs": [
        {
          "output_type": "stream",
          "text": [
            "(384, 30) (117, 30) (384,) (117,)\n"
          ],
          "name": "stdout"
        }
      ]
    },
    {
      "cell_type": "code",
      "metadata": {
        "colab": {
          "base_uri": "https://localhost:8080/"
        },
        "id": "DauLrZjIhtNv",
        "outputId": "cb317c35-ebad-4cd0-898c-ba16b73a2e21"
      },
      "source": [
        "#convert data to fit for lstm\n",
        "#dimensions = (sample, timeSteps here it is 1, features )\n",
        "\n",
        "x_train = x_train.reshape(x_train.shape[0], timeSteps, features)\n",
        "x_test = x_test.reshape(x_test.shape[0], timeSteps, features)\n",
        "y_train = y_train.reshape(y_train.shape[0],1)\n",
        "y_test = y_test.reshape(y_test.shape[0],1)\n",
        "print(x_train.shape,x_test.shape,y_train.shape,y_test.shape)"
      ],
      "execution_count": null,
      "outputs": [
        {
          "output_type": "stream",
          "text": [
            "(384, 3, 10) (117, 3, 10) (384, 1) (117, 1)\n"
          ],
          "name": "stdout"
        }
      ]
    },
    {
      "cell_type": "code",
      "metadata": {
        "id": "HSZ6EGcCh2uB"
      },
      "source": [
        "#define the model.\n",
        "\n",
        "model = Sequential()\n",
        "model.add(LSTM(1500,activation='tanh',return_sequences=True, input_shape = (timeSteps,x_train.shape[2])))\n",
        "model.add(LSTM(1000,activation='tanh'))\n",
        "model.add(Dense(1))\n",
        "\n",
        "model.compile( loss = \"mse\", optimizer = \"adam\")\n",
        "\n",
        "history = model.fit( x_train,y_train, validation_data = (x_test,y_test), epochs = 50 , batch_size = 72, verbose = 0, shuffle = False)"
      ],
      "execution_count": null,
      "outputs": []
    },
    {
      "cell_type": "code",
      "metadata": {
        "colab": {
          "base_uri": "https://localhost:8080/",
          "height": 388
        },
        "id": "TBBgETeOkX8J",
        "outputId": "9e5a4bd8-21f1-4f55-dc20-e0dabcac4d4b"
      },
      "source": [
        "plt.figure(figsize=(10,6))\n",
        "plt.plot(history.history['loss'], label='Training error')\n",
        "plt.plot(history.history['val_loss'], label='Validation error')\n",
        "plt.legend()\n",
        "plt.xlabel('Epochs')\n",
        "plt.ylabel('Error')\n",
        "plt.show()"
      ],
      "execution_count": null,
      "outputs": [
        {
          "output_type": "display_data",
          "data": {
            "image/png": "[encoded data removed]",
            "text/plain": [
              "<Figure size 720x432 with 1 Axes>"
            ]
          },
          "metadata": {
            "tags": [],
            "needs_background": "light"
          }
        }
      ]
    },
    {
      "cell_type": "code",
      "metadata": {
        "id": "OIM2wAVHkflX"
      },
      "source": [
        "#scale back the prediction to orginal scale\n",
        "y_pred = model.predict(x_test)\n",
        "x_test = x_test.reshape(x_test.shape[0],x_test.shape[2]*x_test.shape[1])\n",
        "\n",
        "inv_new = np.concatenate( (y_pred, x_test[:,-9:] ) , axis =1)\n",
        "inv_new = scaler.inverse_transform(inv_new)\n",
        "final_pred = inv_new[:,0]\n",
        "\n",
        "y_test = y_test.reshape( len(y_test), 1)\n",
        "\n",
        "inv_new = np.concatenate( (y_test, x_test[:,-9:] ) ,axis = 1)\n",
        "inv_new = scaler.inverse_transform(inv_new)\n",
        "actual_pred = inv_new[:,0]"
      ],
      "execution_count": null,
      "outputs": []
    },
    {
      "cell_type": "code",
      "metadata": {
        "id": "CIMMkjRMk02S"
      },
      "source": [
        "final_pred = pd.DataFrame(final_pred, index = dataset.index[387:])"
      ],
      "execution_count": null,
      "outputs": []
    },
    {
      "cell_type": "code",
      "metadata": {
        "colab": {
          "base_uri": "https://localhost:8080/",
          "height": 406
        },
        "id": "hJZmwkt6k4oZ",
        "outputId": "cb91a0cd-efdc-46ca-cc56-90a0a6c31bba"
      },
      "source": [
        "#plot the prediction with actual data\n",
        "\n",
        "plt.figure(figsize=(10,6))\n",
        "plt.plot(final_pred[:], label = \"predicted data\",c = \"b\")\n",
        "plt.plot(actual_pred[:],label = \"actual data\",c=\"r\")\n",
        "plt.xlabel(\"Month\")\n",
        "plt.xticks([0,20,40,60,80,100,116])\n",
        "plt.ylabel(\"Residential Electricity Consumption\")\n",
        "plt.legend()"
      ],
      "execution_count": null,
      "outputs": [
        {
          "output_type": "execute_result",
          "data": {
            "text/plain": [
              "<matplotlib.legend.Legend at 0x7f41767e7b10>"
            ]
          },
          "metadata": {
            "tags": []
          },
          "execution_count": 34
        },
        {
          "output_type": "display_data",
          "data": {
            "image/png": "[encoded data removed]",
            "text/plain": [
              "<Figure size 720x432 with 1 Axes>"
            ]
          },
          "metadata": {
            "tags": [],
            "needs_background": "light"
          }
        }
      ]
    },
    {
      "cell_type": "code",
      "metadata": {
        "id": "Y-ZsjjX6btey"
      },
      "source": [
        "def mape(actual, pred): \n",
        "    actual, pred = np.array(actual), np.array(pred)\n",
        "    return np.mean(np.abs((actual - pred) / actual)) * 100"
      ],
      "execution_count": null,
      "outputs": []
    },
    {
      "cell_type": "code",
      "metadata": {
        "colab": {
          "base_uri": "https://localhost:8080/"
        },
        "id": "Nqs_Ml3R2pcs",
        "outputId": "6d2b108d-6af1-4838-f446-df9f18d37b5a"
      },
      "source": [
        "test_results = {}\n",
        "test_results['mse'] = mean_squared_error(actual_pred, final_pred)\n",
        "mse = test_results['mse']\n",
        "test_results['rmse'] = np.sqrt(mse)\n",
        "test_results['mae'] = mean_absolute_error(actual_pred, final_pred)\n",
        "test_results['mape'] = mape(actual_pred, final_pred)\n",
        "test_results"
      ],
      "execution_count": null,
      "outputs": [
        {
          "output_type": "execute_result",
          "data": {
            "text/plain": [
              "{'mae': 107.24059650173047,\n",
              " 'mape': 6.165555712029253,\n",
              " 'mse': 16952.93203069077,\n",
              " 'rmse': 130.20342557202852}"
            ]
          },
          "metadata": {
            "tags": []
          },
          "execution_count": 20
        }
      ]
    },
    {
      "cell_type": "code",
      "metadata": {
        "colab": {
          "base_uri": "https://localhost:8080/",
          "height": 80
        },
        "id": "iKYEF8EfxQde",
        "outputId": "2414bfd6-cf12-4c99-ef25-037a6576f807"
      },
      "source": [
        "Results = pd.DataFrame.from_dict(test_results, orient='index', columns=['Error'])\n",
        "Results.T"
      ],
      "execution_count": null,
      "outputs": [
        {
          "output_type": "execute_result",
          "data": {
            "text/html": [
              "<div>\n",
              "<style scoped>\n",
              "    .dataframe tbody tr th:only-of-type {\n",
              "        vertical-align: middle;\n",
              "    }\n",
              "\n",
              "    .dataframe tbody tr th {\n",
              "        vertical-align: top;\n",
              "    }\n",
              "\n",
              "    .dataframe thead th {\n",
              "        text-align: right;\n",
              "    }\n",
              "</style>\n",
              "<table border=\"1\" class=\"dataframe\">\n",
              "  <thead>\n",
              "    <tr style=\"text-align: right;\">\n",
              "      <th></th>\n",
              "      <th>mse</th>\n",
              "      <th>rmse</th>\n",
              "      <th>mae</th>\n",
              "      <th>mape</th>\n",
              "    </tr>\n",
              "  </thead>\n",
              "  <tbody>\n",
              "    <tr>\n",
              "      <th>Error</th>\n",
              "      <td>16952.932031</td>\n",
              "      <td>130.203426</td>\n",
              "      <td>107.240597</td>\n",
              "      <td>6.165556</td>\n",
              "    </tr>\n",
              "  </tbody>\n",
              "</table>\n",
              "</div>"
            ],
            "text/plain": [
              "                mse        rmse         mae      mape\n",
              "Error  16952.932031  130.203426  107.240597  6.165556"
            ]
          },
          "metadata": {
            "tags": []
          },
          "execution_count": 21
        }
      ]
    },
    {
      "cell_type": "code",
      "metadata": {
        "id": "tNJhaRB8kJ5u"
      },
      "source": [
        ""
      ],
      "execution_count": null,
      "outputs": []
    }
  ]
}